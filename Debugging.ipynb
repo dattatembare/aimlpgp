{
  "cells": [
    {
      "cell_type": "markdown",
      "metadata": {
        "id": "view-in-github",
        "colab_type": "text"
      },
      "source": [
        "<a href=\"https://colab.research.google.com/github/dattatembare/aimlpgp/blob/main/Debugging.ipynb\" target=\"_parent\"><img src=\"https://colab.research.google.com/assets/colab-badge.svg\" alt=\"Open In Colab\"/></a>"
      ]
    },
    {
      "cell_type": "markdown",
      "metadata": {
        "id": "yO2m1WCJCqeH"
      },
      "source": [
        "# Debugging\n",
        "\n",
        "It is very common to make mistakes while programming in any language.  Fortunately, python is able to recognize lots of types of mistakes and tell us what the problem is.  The process of identifying and fixing errors, or *bugs*, in your code is called *debugging*.  It is very important to learn to debug your code, no matter how much experience you have programming you will inevitably make a mistake, you must learn to efficiently identify and fix your mistakes.\n",
        "\n",
        "Let's go through a few examples\n",
        "\n",
        "1. Run some code that doesn't work\n",
        "2. Look at python's output from our mistakes\n",
        "3. Identify the problem\n",
        "4. Fix the problem"
      ]
    },
    {
      "cell_type": "code",
      "execution_count": null,
      "metadata": {
        "id": "c_nuD8L5CqeK"
      },
      "outputs": [],
      "source": [
        "my_dict = {var1: 2, \"var2\": 16}"
      ]
    },
    {
      "cell_type": "code",
      "execution_count": null,
      "metadata": {
        "id": "uDAIe6M6CqeM"
      },
      "outputs": [],
      "source": [
        "for i in range(6)\n",
        "    print(i)"
      ]
    },
    {
      "cell_type": "code",
      "execution_count": null,
      "metadata": {
        "id": "UfunAkvICqeM"
      },
      "outputs": [],
      "source": [
        "array = [1,2,3,4,5]\n",
        "for j in array:\n",
        "    print(array[j])"
      ]
    },
    {
      "cell_type": "code",
      "execution_count": null,
      "metadata": {
        "id": "YwV9OxC5CqeM"
      },
      "outputs": [],
      "source": [
        "if 5=4:\n",
        "    print('true')\n",
        "else:\n",
        "    print('false')\n",
        "\n"
      ]
    },
    {
      "cell_type": "code",
      "execution_count": null,
      "metadata": {
        "id": "vdBoOqcICqeM"
      },
      "outputs": [],
      "source": [
        "class MyClass:\n",
        "    def __init__(self,attr1val,attr2val):\n",
        "        self.attr1 = attr1val\n",
        "        attr2 = attr2val\n",
        "        print('attr2 is equal to',attr2)\n",
        "\n",
        "myobj = MyClass(5,6)\n",
        "\n",
        "print('attr1 is equal to', myobj.attr1)\n",
        "myobj.attr2"
      ]
    },
    {
      "cell_type": "code",
      "execution_count": null,
      "metadata": {
        "id": "y1HK8LzhCqeM"
      },
      "outputs": [],
      "source": [
        "import numpy as np\n",
        "nparray = np.array([1,2,3,4,5,6])\n",
        "mean(nparray)"
      ]
    },
    {
      "cell_type": "code",
      "execution_count": null,
      "metadata": {
        "id": "r03vrQgaCqeM"
      },
      "outputs": [],
      "source": []
    }
  ],
  "metadata": {
    "kernelspec": {
      "display_name": "Python 3",
      "language": "python",
      "name": "python3"
    },
    "language_info": {
      "codemirror_mode": {
        "name": "ipython",
        "version": 3
      },
      "file_extension": ".py",
      "mimetype": "text/x-python",
      "name": "python",
      "nbconvert_exporter": "python",
      "pygments_lexer": "ipython3",
      "version": "3.7.3"
    },
    "colab": {
      "provenance": [],
      "include_colab_link": true
    }
  },
  "nbformat": 4,
  "nbformat_minor": 0
}